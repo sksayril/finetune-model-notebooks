{
 "cells": [
  {
   "cell_type": "markdown",
   "id": "ac3f714d-c479-4037-ab16-32835443167d",
   "metadata": {
    "id": "XIyP_0r6zuVc"
   },
   "source": []
  },
  {
   "cell_type": "markdown",
   "id": "41bda99e-494a-4f6d-a698-00d0250263d8",
   "metadata": {
    "id": "hWI-uRLEyRgb"
   },
   "source": []
  },
  {
   "cell_type": "markdown",
   "id": "1e97ef56",
   "metadata": {},
   "source": [
    "\n",
    "### 1. Let's make the filling\n",
    "\n",
    "Get 2 pounds of walunts and put them in a food processor to chop them up. You want it fine, but not so fine that it butters.\n",
    "\n",
    "<img src=\"bakllava/1.jpeg\" width=\"30%\">\n",
    "\n",
    "Now add 1 cup of sugar and mix it up. My mom won't sleep well if you don't mix this by hand so go roll them sleeves up. Once the sugar is mixed up evenly, add ~ an espresso cup of Rose water and an espresso cup of Orange blossom water. Mix it up again, and youll notice it now holds form a bit like a paste.\n",
    "\n",
    "<img src=\"bakllava/2.jpeg\" width=\"30%\">"
   ]
  },
  {
   "cell_type": "markdown",
   "id": "c0a92da9",
   "metadata": {},
   "source": [
    "\n",
    "### 2. Let's make the syrup\n",
    "\n",
    "Bring 5 cups of water, 6 cups of sugar, and the juice of a half lemon to a boil. Keep stirring it so the consistency is even, and be careful to not overcook it. It shouldn't get too dark, and the consistency should be less thick than honey. \n",
    "\n",
    "You can leave this to boil while checking on it frequently. You'll want it to have sufficiently cooled before drizzling on the baklava."
   ]
  },
  {
   "cell_type": "markdown",
   "id": "734343b0",
   "metadata": {},
   "source": [
    "\n",
    "### 3. Get down with the dough\n",
    "\n",
    "Gently unroll the phyllo dough. You'll see mine was cracked, that's ok, but means the store probably let it thaw more than they should've.\n",
    "\n",
    "<img src=\"bakllava/5.jpeg\" width=\"30%\">\n",
    "\n",
    "Melt, but don't burn, the unsalted butter. We're going to go layer the phyllo dough sheet by sheet, brushing butter on between each layer.\n",
    "\n",
    "<img src=\"bakllava/4.jpeg\" width=\"30%\">\n",
    "\n",
    "While this photo includes a brush, I just used my fingers. Be gentle so you don't rip the dough. Don't worry about covering the entire sheet, you have many sheets, so if some parts are dry, just make sure there's more butter in that spot on the next sheet.\n",
    "\n",
    "Once you finish the first roll, massage the filling to be a flat even layer. Then continue adding butter sheet-by-sheet with the second roll on top.\n",
    "\n",
    "<img src=\"bakllava/6.jpeg\" width=\"30%\">\n",
    "\n",
    "Don't forget to put some butter on the top layer!\n"
   ]
  },
  {
   "cell_type": "markdown",
   "id": "b986beee",
   "metadata": {},
   "source": [
    "\n",
    "### 4. Cut the pieces\n",
    "\n",
    "If we wait until baking is finished and try to cut the flaky crust, it'll crumble into a huge mess, so we need to gently cut the pieces before baking. Don't cut all the way through, maybe just until the filling.\n",
    "\n",
    "To get pretty diamond pieces, cut diagonally one way down the pan ///// , then the other way \\\\\\\\\\\\\\\\\\.\n",
    "\n",
    "<img src='bakllava/7.jpeg' width=\"30%\">\n",
    "\n",
    "Put it in the oven for about 25-30 minutes at 350 degrees. You'll want to keep an eye on it, and take it out when it's getting golden.\n",
    "\n",
    "<img src='bakllava/8.jpeg' width=\"30%\">"
   ]
  },
  {
   "cell_type": "markdown",
   "id": "8c731300",
   "metadata": {},
   "source": [
    "\n",
    "### 6. Pour the syrup and garnish it with pistachios\n",
    "\n",
    "Now that it's all baked, without letting it rest, grab 1 cup of syrup and drizzle it evenely across the entire tray.\n",
    "\n",
    "<img src='bakllava/9.jpeg' width=\"30%\">\n",
    "\n",
    "Grind up the pistachios and give each little piece a pinch \n",
    "\n",
    "<img src='bakllava/11.jpeg' width=\"30%\">"
   ]
  },
  {
   "cell_type": "markdown",
   "id": "dbd51c7a-80ad-416b-9268-e2fc1c367ad1",
   "metadata": {},
   "source": [
    "### Sweet... it worked! Epic!!!\n",
    "\n",
    "At Brev.dev, we make our guides with 1-click deploys. Unfortunately, we can't 1-click deploy Baklava into your oven, but if we could we would.  Hope this was easy enough to follow along, enjoy!\n",
    "\n",
    "🤙 🤙 🤙 🤙 🤙 🤙 🤙 🤙 🤙 🤙 🤙 🤙 🤙 🤙 🤙 🤙 🤙 🤙 🤙 🤙 🤙 🤙 🤙 🤙 🤙 🤙 🤙 🤙 🤙 🤙 🤙 🤙 🤙 🤙 🤙 🤙 🤙 🤙 🤙 🤙 🤙 🤙 🤙 🤙\n",
    "\n",
    "<img src='bakllava/10.jpeg' width=\"30%\">\n"
   ]
  }
 ],
 "metadata": {
  "kernelspec": {
   "display_name": "Python 3 (ipykernel)",
   "language": "python",
   "name": "python3"
  },
  "language_info": {
   "codemirror_mode": {
    "name": "ipython",
    "version": 3
   },
   "file_extension": ".py",
   "mimetype": "text/x-python",
   "name": "python",
   "nbconvert_exporter": "python",
   "pygments_lexer": "ipython3",
   "version": "3.10.12"
  }
 },
 "nbformat": 4,
 "nbformat_minor": 5
}
