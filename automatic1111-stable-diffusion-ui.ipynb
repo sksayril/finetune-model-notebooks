{
 "cells": [
  {
   "cell_type": "markdown",
   "id": "295cba57-f7fa-44ff-aa49-e9c6352925a2",
   "metadata": {
    "id": "XIyP_0r6zuVc"
   },
   "source": []
  },
  {
   "cell_type": "markdown",
   "id": "213a839c-8b72-44c8-aab7-f1672cc7f966",
   "metadata": {
    "id": "hWI-uRLEyRgb"
   },
   "source": []
  },
  {
   "cell_type": "code",
   "execution_count": 1,
   "id": "c8388e79-b453-43bf-a427-ce120d726729",
   "metadata": {},
   "outputs": [
    {
     "name": "stdout",
     "output_type": "stream",
     "text": [
      "Cloning into 'stable-diffusion-webui'...\n",
      "remote: Enumerating objects: 30459, done.\u001b[K\n",
      "remote: Counting objects: 100% (148/148), done.\u001b[K\n",
      "remote: Compressing objects: 100% (82/82), done.\u001b[K\n",
      "remote: Total 30459 (delta 84), reused 111 (delta 66), pack-reused 30311\u001b[K\n",
      "Receiving objects: 100% (30459/30459), 33.37 MiB | 9.46 MiB/s, done.\n",
      "Resolving deltas: 100% (21329/21329), done.\n"
     ]
    }
   ],
   "source": [
    "!git clone https://github.com/AUTOMATIC1111/stable-diffusion-webui.git"
   ]
  },
  {
   "cell_type": "code",
   "execution_count": null,
   "id": "b9e96498-acba-49e4-8158-2c744bd2b38f",
   "metadata": {},
   "outputs": [],
   "source": [
    "!pip install -q -U xformers matplotlib_inline\n",
    "!sudo apt-get update && sudo apt-get -q install ffmpeg libsm6 libxext6 -y"
   ]
  },
  {
   "cell_type": "code",
   "execution_count": 3,
   "id": "a6a126ac-d815-40f2-8506-d501782924bf",
   "metadata": {},
   "outputs": [],
   "source": [
    "import os\n",
    "os.chdir('stable-diffusion-webui')"
   ]
  },
  {
   "cell_type": "markdown",
   "id": "e0652b11-ebe5-4884-bea7-6be89f08c0e4",
   "metadata": {},
   "source": [
    "## Now run the cell below, and just leave it running! When it completes, a window will pop up with your UI!\n",
    "If you have any issues, go to http://127.0.0.1:7860/ in your browser when you see output about \"model weights\".\n",
    "If you still have issues, run `brev port-forward automatic1111-stable-diffusion-ui -p 7860:7860` on a terminal on your LOCAL machine (i.e. NOT from within this machine/notebook, but on your laptop). If you chose a different machine name, replace `automatic1111-stable-diffusion-ui` with that name."
   ]
  },
  {
   "cell_type": "code",
   "execution_count": 4,
   "id": "bb1a74c3-c2f8-4498-8c23-20f2143dcfc2",
   "metadata": {},
   "outputs": [
    {
     "name": "stdout",
     "output_type": "stream",
     "text": [
      "^C\n",
      "Interrupted with signal 2 in <frame at 0x55658e18d060, file '/home/ubuntu/.pyenv/versions/3.10.13/lib/python3.10/threading.py', line 324, code wait>\n"
     ]
    }
   ],
   "source": [
    "!bash <(wget -qO- https://raw.githubusercontent.com/AUTOMATIC1111/stable-diffusion-webui/master/webui.sh)"
   ]
  }
 ],
 "metadata": {
  "kernelspec": {
   "display_name": "Python 3 (ipykernel)",
   "language": "python",
   "name": "python3"
  },
  "language_info": {
   "codemirror_mode": {
    "name": "ipython",
    "version": 3
   },
   "file_extension": ".py",
   "mimetype": "text/x-python",
   "name": "python",
   "nbconvert_exporter": "python",
   "pygments_lexer": "ipython3",
   "version": "3.10.12"
  }
 },
 "nbformat": 4,
 "nbformat_minor": 5
}
